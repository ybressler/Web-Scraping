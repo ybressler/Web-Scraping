{
  "nbformat": 4,
  "nbformat_minor": 0,
  "metadata": {
    "colab": {
      "name": "Web Scraper for Groceries.ipynb",
      "provenance": [],
      "collapsed_sections": [],
      "toc_visible": true,
      "include_colab_link": true
    },
    "kernelspec": {
      "name": "python3",
      "display_name": "Python 3"
    }
  },
  "cells": [
    {
      "cell_type": "markdown",
      "metadata": {
        "id": "view-in-github",
        "colab_type": "text"
      },
      "source": [
        "<a href=\"https://colab.research.google.com/github/ybressler/Web-Scraping/blob/master/Web_Scraper_for_Groceries.ipynb\" target=\"_parent\"><img src=\"https://colab.research.google.com/assets/colab-badge.svg\" alt=\"Open In Colab\"/></a>"
      ]
    },
    {
      "cell_type": "markdown",
      "metadata": {
        "id": "A3T9AXLxy2CU",
        "colab_type": "text"
      },
      "source": [
        "# Web Scraper for Groceries"
      ]
    },
    {
      "cell_type": "markdown",
      "metadata": {
        "id": "0lOYfXdOy89D",
        "colab_type": "text"
      },
      "source": [
        "## Input"
      ]
    },
    {
      "cell_type": "code",
      "metadata": {
        "id": "p1i20KeLzD9i",
        "colab_type": "code",
        "colab": {},
        "cellView": "form"
      },
      "source": [
        "#@title Input your stuff\n",
        "#@markdown String fields require strings at beginning and end.\n",
        "\n",
        "url = 'https://seasonskosher.com/clifton/'  #@param\n",
        "departments = 'Fruit, Vegetable, Meat'  #@param\n",
        "slider_value = 2  #@param {type: \"slider\", min: 1, max: 10}\n",
        "#@markdown ---\n",
        "\n",
        "# Convert departments into a list:\n",
        "departments = departments.split(',') if ',' in departments else [departments]"
      ],
      "execution_count": 0,
      "outputs": []
    },
    {
      "cell_type": "markdown",
      "metadata": {
        "id": "dL8V8bPuzhnr",
        "colab_type": "text"
      },
      "source": [
        "## No Input"
      ]
    },
    {
      "cell_type": "code",
      "metadata": {
        "id": "XpT_qRQdzjPT",
        "colab_type": "code",
        "colab": {}
      },
      "source": [
        "url = 'https://seasonskosher.com/clifton/'"
      ],
      "execution_count": 0,
      "outputs": []
    },
    {
      "cell_type": "code",
      "metadata": {
        "id": "AAkCHycIzkDc",
        "colab_type": "code",
        "colab": {
          "base_uri": "https://localhost:8080/",
          "height": 34
        },
        "outputId": "cb22fa5b-4552-4102-8a0b-f5cc9d433af8"
      },
      "source": [
        "departments"
      ],
      "execution_count": 15,
      "outputs": [
        {
          "output_type": "execute_result",
          "data": {
            "text/plain": [
              "['Fruit', ' Vegetable', ' Meat']"
            ]
          },
          "metadata": {
            "tags": []
          },
          "execution_count": 15
        }
      ]
    },
    {
      "cell_type": "code",
      "metadata": {
        "id": "j3LheJeK0MYa",
        "colab_type": "code",
        "colab": {}
      },
      "source": [
        "import requests\n",
        "from bs4 import BeautifulSoup\n",
        "# import pandas as pd\n",
        "# import inflect\n",
        "\n",
        "r = requests.get(url)\n",
        "html = r.text\n",
        "soup = BeautifulSoup(html, 'html.parser')\n",
        "\n",
        "# Get the title\n",
        "title = soup.title.text.lower()\n",
        "\n",
        "# Get the description\n",
        "description = soup.find('meta', attrs={'name':'description'}).get('content')\n",
        "\n",
        "# Get the links for each department\n",
        "dept_links = [url + x.get('href') for x in soup.find_all('a', attrs={'class':'see-all'})]\n",
        "dept_links = {x.split('/')[-1]: x for x in dept_links}"
      ],
      "execution_count": 0,
      "outputs": []
    },
    {
      "cell_type": "code",
      "metadata": {
        "id": "FwhzCdMw2mCG",
        "colab_type": "code",
        "colab": {}
      },
      "source": [
        "# Organized by department\n",
        "all_items = {}\n",
        "\n",
        "for dept, dept_url in dept_links.items():\n",
        "  r = requests.get(dept_url)\n",
        "  html = r.text\n",
        "  soup = BeautifulSoup(html, 'html.parser')\n",
        "  # Now get the links from each department\n",
        "  item_links_pre = [url + x.get('href') for x in soup.find_all('a')]\n",
        "  item_links = [x for x in item_links_pre if dept in x and not x.endswith(dept)]\n",
        "  item_links = {x.split('/')[-1]: x for x in item_links}\n",
        "\n",
        "  # Add items\n",
        "  all_items[dept] = item_links"
      ],
      "execution_count": 0,
      "outputs": []
    },
    {
      "cell_type": "code",
      "metadata": {
        "id": "IvRm64hC5NJ1",
        "colab_type": "code",
        "colab": {}
      },
      "source": [
        "# Test out a single page\n",
        "for item, item_url in all_items['kosher-fruit'].items():\n",
        "  r = requests.get(dept_url)\n",
        "  html = r.text\n",
        "  soup = BeautifulSoup(html, 'html.parser')\n",
        "  # Now get the prices for each item\n",
        "  break\n"
      ],
      "execution_count": 0,
      "outputs": []
    },
    {
      "cell_type": "code",
      "metadata": {
        "id": "tanG1TDYAQoR",
        "colab_type": "code",
        "colab": {}
      },
      "source": [
        "# No luck, will need to simulate the browser via selenium."
      ],
      "execution_count": 0,
      "outputs": []
    }
  ]
}