{
  "nbformat": 4,
  "nbformat_minor": 0,
  "metadata": {
    "colab": {
      "name": "Web Scraping Overview – NYC Python Meetup.ipynb",
      "provenance": [],
      "authorship_tag": "ABX9TyOOV0L5zPxTuK5NC+lV9kar",
      "include_colab_link": true
    },
    "kernelspec": {
      "name": "python3",
      "display_name": "Python 3"
    }
  },
  "cells": [
    {
      "cell_type": "markdown",
      "metadata": {
        "id": "view-in-github",
        "colab_type": "text"
      },
      "source": [
        "<a href=\"https://colab.research.google.com/github/ybressler/Web-Scraping/blob/master/Web%20Scraping%20Overview%20%E2%80%93%20NYC%20Python%20Meetup.ipynb\" target=\"_parent\"><img src=\"https://colab.research.google.com/assets/colab-badge.svg\" alt=\"Open In Colab\"/></a>"
      ]
    },
    {
      "cell_type": "markdown",
      "metadata": {
        "id": "GjFLFtmS5Yud",
        "colab_type": "text"
      },
      "source": [
        "# Web Scraping – NYC Python Meetup\n",
        "\n",
        "---\n"
      ]
    },
    {
      "cell_type": "code",
      "metadata": {
        "id": "FQGKelpQ5dP7",
        "colab_type": "code",
        "colab": {}
      },
      "source": [
        "# These should all be installed. If they're not, pip install them by entering the following into a cell:\n",
        "# !pip install <package name>\n",
        "\n",
        "# Core python\n",
        "import os\n",
        "import json\n",
        "import re\n",
        "import datetime\n",
        "\n",
        "# Web scraping\n",
        "import requests\n",
        "import urllib\n",
        "from bs4 import BeautifulSoup "
      ],
      "execution_count": 0,
      "outputs": []
    },
    {
      "cell_type": "markdown",
      "metadata": {
        "id": "Cq1zohTk57B6",
        "colab_type": "text"
      },
      "source": [
        "# Basic Stuff"
      ]
    },
    {
      "cell_type": "code",
      "metadata": {
        "id": "1jzzVA7o5qqM",
        "colab_type": "code",
        "colab": {}
      },
      "source": [
        "url = \"https://www.meetup.com/nycpython/\"\n",
        "\n",
        "r = requests.get(url)\n",
        "html = r.text\n",
        "soup = BeautifulSoup(html, 'html.parser')\n",
        "\n",
        "\n",
        "# Store all the things I'm scraping\n",
        "records = {}"
      ],
      "execution_count": 0,
      "outputs": []
    },
    {
      "cell_type": "markdown",
      "metadata": {
        "id": "cUBHrxSU6D8q",
        "colab_type": "text"
      },
      "source": [
        "## Title"
      ]
    },
    {
      "cell_type": "code",
      "metadata": {
        "id": "rHTzvlB56FLA",
        "colab_type": "code",
        "outputId": "552df2bd-6e6a-4faf-9d58-a50a972c06b3",
        "colab": {
          "base_uri": "https://localhost:8080/",
          "height": 0
        }
      },
      "source": [
        "records = {}\n",
        "\n",
        "# Try to find it in the soup\n",
        "tag_name = \"title\" \n",
        "\n",
        "result = soup.head.find(tag_name)\n",
        "\n",
        "if not result:\n",
        "    result = soup.find(\"meta\",  property=f\"og:{tag_name}\")\n",
        "    result = result.get(\"content\")\n",
        "    \n",
        "else:\n",
        "    result = result.text\n",
        "\n",
        "records.update(\n",
        "    {tag_name: result}\n",
        ")\n",
        "\n",
        "print(records)"
      ],
      "execution_count": 3,
      "outputs": [
        {
          "output_type": "stream",
          "text": [
            "{'title': 'The New York Python Meetup Group (New York, NY) | Meetup'}\n"
          ],
          "name": "stdout"
        }
      ]
    },
    {
      "cell_type": "markdown",
      "metadata": {
        "id": "sjnojjsF6PLg",
        "colab_type": "text"
      },
      "source": [
        "## Description"
      ]
    },
    {
      "cell_type": "code",
      "metadata": {
        "id": "yI1BMGS76Q_f",
        "colab_type": "code",
        "outputId": "590f197a-08de-4342-ddd8-8a576d3bef43",
        "colab": {
          "base_uri": "https://localhost:8080/",
          "height": 0
        }
      },
      "source": [
        "# Try to find it in the soup\n",
        "tag_name = \"description\" \n",
        "\n",
        "result = soup.head.find(tag_name)\n",
        "\n",
        "if not result:\n",
        "    result = soup.find(\"meta\",  property=f\"og:{tag_name}\")\n",
        "    result = result.get(\"content\")\n",
        "    \n",
        "else:\n",
        "    result = result.text\n",
        "\n",
        "records.update(\n",
        "    {tag_name: result}\n",
        ")\n",
        "records"
      ],
      "execution_count": 4,
      "outputs": [
        {
          "output_type": "execute_result",
          "data": {
            "text/plain": [
              "{'description': 'Meet other local Python Programming Language enthusiasts!',\n",
              " 'title': 'The New York Python Meetup Group (New York, NY) | Meetup'}"
            ]
          },
          "metadata": {
            "tags": []
          },
          "execution_count": 4
        }
      ]
    },
    {
      "cell_type": "markdown",
      "metadata": {
        "id": "sjFbO6BW6UqV",
        "colab_type": "text"
      },
      "source": [
        "## Some Creepy Stuff"
      ]
    },
    {
      "cell_type": "code",
      "metadata": {
        "id": "ndA4rwuM6U_K",
        "colab_type": "code",
        "colab": {}
      },
      "source": [
        "new_relic_tracking = \"nr-data.net\""
      ],
      "execution_count": 0,
      "outputs": []
    },
    {
      "cell_type": "code",
      "metadata": {
        "id": "B2TrDKqT6XF6",
        "colab_type": "code",
        "outputId": "02ab367e-3626-422c-8e49-b5a5afb67fba",
        "colab": {
          "base_uri": "https://localhost:8080/",
          "height": 0
        }
      },
      "source": [
        "creepy_script = \"https://bam.nr-data.net/1/74dcd635da?a=153043785&amp;v=1167.2a4546b&amp;to=YlwAbEtRV0VWVBJQCVsWLFdLXVhaXk0DXTNHUE0CTEJVWFZaAw%3D%3D&amp;rst=6985&amp;ref=https://www.meetup.com/nycpython/&amp;ap=2389.297138&amp;be=2727&amp;fe=6932&amp;dc=3741&amp;tt=fe428349575618&amp;af=err,xhr,stn,ins,spa&amp;perf=%7B%22timing%22:%7B%22of%22:1581551747585,%22n%22:0,%22f%22:4,%22dn%22:6,%22dne%22:25,%22c%22:25,%22s%22:44,%22ce%22:75,%22rq%22:76,%22rp%22:2657,%22rpe%22:2706,%22dl%22:2669,%22di%22:3741,%22ds%22:3742,%22de%22:3742,%22dc%22:6932,%22l%22:6932,%22le%22:6957%7D,%22navigation%22:%7B%7D%7D&amp;fp=3216&amp;fcp=3216&amp;ja=%7B%22timeToAppInteractive%22:4221.2949999957345%7D&amp;jsonp=NREUM.setToken\"\n",
        "creepy_query = urllib.parse.urlparse(creepy_script).query\n",
        "# creepy_query = urllib.parse.unquote(creepy_query)\n",
        "\n",
        "creepy_all_stuff = urllib.parse.parse_qs(creepy_query)\n",
        "\n",
        "creepy_perf = json.loads(creepy_all_stuff.get(\"perf\", [\"{}\"])[0])\n",
        "creepy_perf_timing = creepy_perf.get(\"timing\", {}).get(\"of\", None)\n",
        "creepy_perf_timing_dt = datetime.datetime.fromtimestamp(creepy_perf_timing/1000) if creepy_perf_timing else None\n",
        "\n",
        "creepy_perf_timing_dt"
      ],
      "execution_count": 6,
      "outputs": [
        {
          "output_type": "execute_result",
          "data": {
            "text/plain": [
              "datetime.datetime(2020, 2, 12, 23, 55, 47, 585000)"
            ]
          },
          "metadata": {
            "tags": []
          },
          "execution_count": 6
        }
      ]
    },
    {
      "cell_type": "code",
      "metadata": {
        "id": "JV-41Ckf6SUk",
        "colab_type": "code",
        "outputId": "7dae54f7-e85c-4360-89ea-322ddfc6aa5d",
        "colab": {
          "base_uri": "https://localhost:8080/",
          "height": 0
        }
      },
      "source": [
        "pattern = re.compile(new_relic_tracking)\n",
        "\n",
        "# Trying to find this:\n",
        "soup.head.find_all(text=pattern)"
      ],
      "execution_count": 7,
      "outputs": [
        {
          "output_type": "execute_result",
          "data": {
            "text/plain": [
              "['window.NREUM||(NREUM={});NREUM.info = {\"agent\":\"\",\"beacon\":\"bam.nr-data.net\",\"errorBeacon\":\"bam.nr-data.net\",\"licenseKey\":\"74dcd635da\",\"applicationID\":\"153043785\",\"applicationTime\":1377.227147,\"transactionName\":\"YlwAbEtRV0VWVBJQCVsWLFdLXVhaXk0DXTNHUE0CTEJVWFZaAw==\",\"queueTime\":0,\"ttGuid\":\"108fefeabf01200\",\"agentToken\":null}; (window.NREUM||(NREUM={})).loader_config={xpid:\"VQQEWVFTCBABUVJSAwIAXlE=\",licenseKey:\"74dcd635da\",applicationID:\"153043785\"};window.NREUM||(NREUM={}),__nr_require=function(t,e,n){function r(n){if(!e[n]){var o=e[n]={exports:{}};t[n][0].call(o.exports,function(e){var o=t[n][1][e];return r(o||e)},o,o.exports)}return e[n].exports}if(\"function\"==typeof __nr_require)return __nr_require;for(var o=0;o<n.length;o++)r(n[o]);return r}({1:[function(t,e,n){function r(t){try{s.console&&console.log(t)}catch(e){}}var o,i=t(\"ee\"),a=t(25),s={};try{o=localStorage.getItem(\"__nr_flags\").split(\",\"),console&&\"function\"==typeof console.log&&(s.console=!0,o.indexOf(\"dev\")!==-1&&(s.dev=!0),o.indexOf(\"nr_dev\")!==-1&&(s.nrDev=!0))}catch(c){}s.nrDev&&i.on(\"internal-error\",function(t){r(t.stack)}),s.dev&&i.on(\"fn-err\",function(t,e,n){r(n.stack)}),s.dev&&(r(\"NR AGENT IN DEVELOPMENT MODE\"),r(\"flags: \"+a(s,function(t,e){return t}).join(\", \")))},{}],2:[function(t,e,n){function r(t,e,n,r,s){try{l?l-=1:o(s||new UncaughtException(t,e,n),!0)}catch(f){try{i(\"ierr\",[f,c.now(),!0])}catch(d){}}return\"function\"==typeof u&&u.apply(this,a(arguments))}function UncaughtException(t,e,n){this.message=t||\"Uncaught error with no additional information\",this.sourceURL=e,this.line=n}function o(t,e){var n=e?null:c.now();i(\"err\",[t,n])}var i=t(\"handle\"),a=t(26),s=t(\"ee\"),c=t(\"loader\"),f=t(\"gos\"),u=window.onerror,d=!1,p=\"nr@seenError\",l=0;c.features.err=!0,t(1),window.onerror=r;try{throw new Error}catch(h){\"stack\"in h&&(t(13),t(12),\"addEventListener\"in window&&t(6),c.xhrWrappable&&t(14),d=!0)}s.on(\"fn-start\",function(t,e,n){d&&(l+=1)}),s.on(\"fn-err\",function(t,e,n){d&&!n[p]&&(f(n,p,function(){return!0}),this.thrown=!0,o(n))}),s.on(\"fn-end\",function(){d&&!this.thrown&&l>0&&(l-=1)}),s.on(\"internal-error\",function(t){i(\"ierr\",[t,c.now(),!0])})},{}],3:[function(t,e,n){t(\"loader\").features.ins=!0},{}],4:[function(t,e,n){function r(){L++,C=g.hash,this[u]=y.now()}function o(){L--,g.hash!==C&&i(0,!0);var t=y.now();this[h]=~~this[h]+t-this[u],this[d]=t}function i(t,e){E.emit(\"newURL\",[\"\"+g,e])}function a(t,e){t.on(e,function(){this[e]=y.now()})}var s=\"-start\",c=\"-end\",f=\"-body\",u=\"fn\"+s,d=\"fn\"+c,p=\"cb\"+s,l=\"cb\"+c,h=\"jsTime\",m=\"fetch\",v=\"addEventListener\",w=window,g=w.location,y=t(\"loader\");if(w[v]&&y.xhrWrappable){var x=t(10),b=t(11),E=t(8),O=t(6),R=t(13),P=t(7),T=t(14),N=t(9),M=t(\"ee\"),S=M.get(\"tracer\");t(16),y.features.spa=!0;var C,L=0;M.on(u,r),M.on(p,r),M.on(d,o),M.on(l,o),M.buffer([u,d,\"xhr-done\",\"xhr-resolved\"]),O.buffer([u]),R.buffer([\"setTimeout\"+c,\"clearTimeout\"+s,u]),T.buffer([u,\"new-xhr\",\"send-xhr\"+s]),P.buffer([m+s,m+\"-done\",m+f+s,m+f+c]),E.buffer([\"newURL\"]),x.buffer([u]),b.buffer([\"propagate\",p,l,\"executor-err\",\"resolve\"+s]),S.buffer([u,\"no-\"+u]),N.buffer([\"new-jsonp\",\"cb-start\",\"jsonp-error\",\"jsonp-end\"]),a(T,\"send-xhr\"+s),a(M,\"xhr-resolved\"),a(M,\"xhr-done\"),a(P,m+s),a(P,m+\"-done\"),a(N,\"new-jsonp\"),a(N,\"jsonp-end\"),a(N,\"cb-start\"),E.on(\"pushState-end\",i),E.on(\"replaceState-end\",i),w[v](\"hashchange\",i,!0),w[v](\"load\",i,!0),w[v](\"popstate\",function(){i(0,L>1)},!0)}},{}],5:[function(t,e,n){function r(t){}if(window.performance&&window.performance.timing&&window.performance.getEntriesByType){var o=t(\"ee\"),i=t(\"handle\"),a=t(13),s=t(12),c=\"learResourceTimings\",f=\"addEventListener\",u=\"resourcetimingbufferfull\",d=\"bstResource\",p=\"resource\",l=\"-start\",h=\"-end\",m=\"fn\"+l,v=\"fn\"+h,w=\"bstTimer\",g=\"pushState\",y=t(\"loader\");y.features.stn=!0,t(8),\"addEventListener\"in window&&t(6);var x=NREUM.o.EV;o.on(m,function(t,e){var n=t[0];n instanceof x&&(this.bstStart=y.now())}),o.on(v,function(t,e){var n=t[0];n instanceof x&&i(\"bst\",[n,e,this.bstStart,y.now()])}),a.on(m,function(t,e,n){this.bstStart=y.now(),this.bstType=n}),a.on(v,function(t,e){i(w,[e,this.bstStart,y.now(),this.bstType])}),s.on(m,function(){this.bstStart=y.now()}),s.on(v,function(t,e){i(w,[e,this.bstStart,y.now(),\"requestAnimationFrame\"])}),o.on(g+l,function(t){this.time=y.now(),this.startPath=location.pathname+location.hash}),o.on(g+h,function(t){i(\"bstHist\",[location.pathname+location.hash,this.startPath,this.time])}),f in window.performance&&(window.performance[\"c\"+c]?window.performance[f](u,function(t){i(d,[window.performance.getEntriesByType(p)]),window.performance[\"c\"+c]()},!1):window.performance[f](\"webkit\"+u,function(t){i(d,[window.performance.getEntriesByType(p)]),window.performance[\"webkitC\"+c]()},!1)),document[f](\"scroll\",r,{passive:!0}),document[f](\"keypress\",r,!1),document[f](\"click\",r,!1)}},{}],6:[function(t,e,n){function r(t){for(var e=t;e&&!e.hasOwnProperty(u);)e=Object.getPrototypeOf(e);e&&o(e)}function o(t){s.inPlace(t,[u,d],\"-\",i)}function i(t,e){return t[1]}var a=t(\"ee\").get(\"events\"),s=t(\"wrap-function\")(a,!0),c=t(\"gos\"),f=XMLHttpRequest,u=\"addEventListener\",d=\"removeEventListener\";e.exports=a,\"getPrototypeOf\"in Object?(r(document),r(window),r(f.prototype)):f.prototype.hasOwnProperty(u)&&(o(window),o(f.prototype)),a.on(u+\"-start\",function(t,e){var n=t[1],r=c(n,\"nr@wrapped\",function(){function t(){if(\"function\"==typeof n.handleEvent)return n.handleEvent.apply(n,arguments)}var e={object:t,\"function\":n}[typeof n];return e?s(e,\"fn-\",null,e.name||\"anonymous\"):n});this.wrapped=t[1]=r}),a.on(d+\"-start\",function(t){t[1]=this.wrapped||t[1]})},{}],7:[function(t,e,n){function r(t,e,n){var r=t[e];\"function\"==typeof r&&(t[e]=function(){var t=i(arguments),e={};o.emit(n+\"before-start\",[t],e);var a;e[m]&&e[m].dt&&(a=e[m].dt);var s=r.apply(this,t);return o.emit(n+\"start\",[t,a],s),s.then(function(t){return o.emit(n+\"end\",[null,t],s),t},function(t){throw o.emit(n+\"end\",[t],s),t})})}var o=t(\"ee\").get(\"fetch\"),i=t(26),a=t(25);e.exports=o;var s=window,c=\"fetch-\",f=c+\"body-\",u=[\"arrayBuffer\",\"blob\",\"json\",\"text\",\"formData\"],d=s.Request,p=s.Response,l=s.fetch,h=\"prototype\",m=\"nr@context\";d&&p&&l&&(a(u,function(t,e){r(d[h],e,f),r(p[h],e,f)}),r(s,\"fetch\",c),o.on(c+\"end\",function(t,e){var n=this;if(e){var r=e.headers.get(\"content-length\");null!==r&&(n.rxSize=r),o.emit(c+\"done\",[null,e],n)}else o.emit(c+\"done\",[t],n)}))},{}],8:[function(t,e,n){var r=t(\"ee\").get(\"history\"),o=t(\"wrap-function\")(r);e.exports=r;var i=window.history&&window.history.constructor&&window.history.constructor.prototype,a=window.history;i&&i.pushState&&i.replaceState&&(a=i),o.inPlace(a,[\"pushState\",\"replaceState\"],\"-\")},{}],9:[function(t,e,n){function r(t){function e(){c.emit(\"jsonp-end\",[],p),t.removeEventListener(\"load\",e,!1),t.removeEventListener(\"error\",n,!1)}function n(){c.emit(\"jsonp-error\",[],p),c.emit(\"jsonp-end\",[],p),t.removeEventListener(\"load\",e,!1),t.removeEventListener(\"error\",n,!1)}var r=t&&\"string\"==typeof t.nodeName&&\"script\"===t.nodeName.toLowerCase();if(r){var o=\"function\"==typeof t.addEventListener;if(o){var a=i(t.src);if(a){var u=s(a),d=\"function\"==typeof u.parent[u.key];if(d){var p={};f.inPlace(u.parent,[u.key],\"cb-\",p),t.addEventListener(\"load\",e,!1),t.addEventListener(\"error\",n,!1),c.emit(\"new-jsonp\",[t.src],p)}}}}}function o(){return\"addEventListener\"in window}function i(t){var e=t.match(u);return e?e[1]:null}function a(t,e){var n=t.match(p),r=n[1],o=n[3];return o?a(o,e[r]):e[r]}function s(t){var e=t.match(d);return e&&e.length>=3?{key:e[2],parent:a(e[1],window)}:{key:t,parent:window}}var c=t(\"ee\").get(\"jsonp\"),f=t(\"wrap-function\")(c);if(e.exports=c,o()){var u=/[?&](?:callback|cb)=([^&#]+)/,d=/(.*)\\\\.([^.]+)/,p=/^(\\\\w+)(\\\\.|$)(.*)$/,l=[\"appendChild\",\"insertBefore\",\"replaceChild\"];Node&&Node.prototype&&Node.prototype.appendChild?f.inPlace(Node.prototype,l,\"dom-\"):(f.inPlace(HTMLElement.prototype,l,\"dom-\"),f.inPlace(HTMLHeadElement.prototype,l,\"dom-\"),f.inPlace(HTMLBodyElement.prototype,l,\"dom-\")),c.on(\"dom-start\",function(t){r(t[0])})}},{}],10:[function(t,e,n){var r=t(\"ee\").get(\"mutation\"),o=t(\"wrap-function\")(r),i=NREUM.o.MO;e.exports=r,i&&(window.MutationObserver=function(t){return this instanceof i?new i(o(t,\"fn-\")):i.apply(this,arguments)},MutationObserver.prototype=i.prototype)},{}],11:[function(t,e,n){function r(t){var e=a.context(),n=s(t,\"executor-\",e),r=new f(n);return a.context(r).getCtx=function(){return e},a.emit(\"new-promise\",[r,e],e),r}function o(t,e){return e}var i=t(\"wrap-function\"),a=t(\"ee\").get(\"promise\"),s=i(a),c=t(25),f=NREUM.o.PR;e.exports=a,f&&(window.Promise=r,[\"all\",\"race\"].forEach(function(t){var e=f[t];f[t]=function(n){function r(t){return function(){a.emit(\"propagate\",[null,!o],i),o=o||!t}}var o=!1;c(n,function(e,n){Promise.resolve(n).then(r(\"all\"===t),r(!1))});var i=e.apply(f,arguments),s=f.resolve(i);return s}}),[\"resolve\",\"reject\"].forEach(function(t){var e=f[t];f[t]=function(t){var n=e.apply(f,arguments);return t!==n&&a.emit(\"propagate\",[t,!0],n),n}}),f.prototype[\"catch\"]=function(t){return this.then(null,t)},f.prototype=Object.create(f.prototype,{constructor:{value:r}}),c(Object.getOwnPropertyNames(f),function(t,e){try{r[e]=f[e]}catch(n){}}),a.on(\"executor-start\",function(t){t[0]=s(t[0],\"resolve-\",this),t[1]=s(t[1],\"resolve-\",this)}),a.on(\"executor-err\",function(t,e,n){t[1](n)}),s.inPlace(f.prototype,[\"then\"],\"then-\",o),a.on(\"then-start\",function(t,e){this.promise=e,t[0]=s(t[0],\"cb-\",this),t[1]=s(t[1],\"cb-\",this)}),a.on(\"then-end\",function(t,e,n){this.nextPromise=n;var r=this.promise;a.emit(\"propagate\",[r,!0],n)}),a.on(\"cb-end\",function(t,e,n){a.emit(\"propagate\",[n,!0],this.nextPromise)}),a.on(\"propagate\",function(t,e,n){this.getCtx&&!e||(this.getCtx=function(){if(t instanceof Promise)var e=a.context(t);return e&&e.getCtx?e.getCtx():this})}),r.toString=function(){return\"\"+f})},{}],12:[function(t,e,n){var r=t(\"ee\").get(\"raf\"),o=t(\"wrap-function\")(r),i=\"equestAnimationFrame\";e.exports=r,o.inPlace(window,[\"r\"+i,\"mozR\"+i,\"webkitR\"+i,\"msR\"+i],\"raf-\"),r.on(\"raf-start\",function(t){t[0]=o(t[0],\"fn-\")})},{}],13:[function(t,e,n){function r(t,e,n){t[0]=a(t[0],\"fn-\",null,n)}function o(t,e,n){this.method=n,this.timerDuration=isNaN(t[1])?0:+t[1],t[0]=a(t[0],\"fn-\",this,n)}var i=t(\"ee\").get(\"timer\"),a=t(\"wrap-function\")(i),s=\"setTimeout\",c=\"setInterval\",f=\"clearTimeout\",u=\"-start\",d=\"-\";e.exports=i,a.inPlace(window,[s,\"setImmediate\"],s+d),a.inPlace(window,[c],c+d),a.inPlace(window,[f,\"clearImmediate\"],f+d),i.on(c+u,r),i.on(s+u,o)},{}],14:[function(t,e,n){function r(t,e){d.inPlace(e,[\"onreadystatechange\"],\"fn-\",s)}function o(){var t=this,e=u.context(t);t.readyState>3&&!e.resolved&&(e.resolved=!0,u.emit(\"xhr-resolved\",[],t)),d.inPlace(t,g,\"fn-\",s)}function i(t){y.push(t),h&&(b?b.then(a):v?v(a):(E=-E,O.data=E))}function a(){for(var t=0;t<y.length;t++)r([],y[t]);y.length&&(y=[])}function s(t,e){return e}function c(t,e){for(var n in t)e[n]=t[n];return e}t(6);var f=t(\"ee\"),u=f.get(\"xhr\"),d=t(\"wrap-function\")(u),p=NREUM.o,l=p.XHR,h=p.MO,m=p.PR,v=p.SI,w=\"readystatechange\",g=[\"onload\",\"onerror\",\"onabort\",\"onloadstart\",\"onloadend\",\"onprogress\",\"ontimeout\"],y=[];e.exports=u;var x=window.XMLHttpRequest=function(t){var e=new l(t);try{u.emit(\"new-xhr\",[e],e),e.addEventListener(w,o,!1)}catch(n){try{u.emit(\"internal-error\",[n])}catch(r){}}return e};if(c(l,x),x.prototype=l.prototype,d.inPlace(x.prototype,[\"open\",\"send\"],\"-xhr-\",s),u.on(\"send-xhr-start\",function(t,e){r(t,e),i(e)}),u.on(\"open-xhr-start\",r),h){var b=m&&m.resolve();if(!v&&!m){var E=1,O=document.createTextNode(E);new h(a).observe(O,{characterData:!0})}}else f.on(\"fn-end\",function(t){t[0]&&t[0].type===w||a()})},{}],15:[function(t,e,n){function r(t){if(!i(t))return null;var e=window.NREUM;if(!e.loader_config)return null;var n=(e.loader_config.accountID||\"\").toString()||null,r=(e.loader_config.agentID||\"\").toString()||null,s=(e.loader_config.trustKey||\"\").toString()||null;if(!n||!r)return null;var c=a.generateCatId(),f=a.generateCatId(),u=Date.now(),d=o(c,f,u,n,r,s);return{header:d,guid:c,traceId:f,timestamp:u}}function o(t,e,n,r,o,i){var a=\"btoa\"in window&&\"function\"==typeof window.btoa;if(!a)return null;var s={v:[0,1],d:{ty:\"Browser\",ac:r,ap:o,id:t,tr:e,ti:n}};return i&&r!==i&&(s.d.tk=i),btoa(JSON.stringify(s))}function i(t){var e=!1,n=!1,r={};if(\"init\"in NREUM&&\"distributed_tracing\"in NREUM.init&&(r=NREUM.init.distributed_tracing,n=!!r.enabled),n)if(t.sameOrigin)e=!0;else if(r.allowed_origins instanceof Array)for(var o=0;o<r.allowed_origins.length;o++){var i=s(r.allowed_origins[o]);if(t.hostname===i.hostname&&t.protocol===i.protocol&&t.port===i.port){e=!0;break}}return n&&e}var a=t(23),s=t(17);e.exports={generateTracePayload:r,shouldGenerateTrace:i}},{}],16:[function(t,e,n){function r(t){var e=this.params,n=this.metrics;if(!this.ended){this.ended=!0;for(var r=0;r<p;r++)t.removeEventListener(d[r],this.listener,!1);e.aborted||(n.duration=a.now()-this.startTime,this.loadCaptureCalled||4!==t.readyState?null==e.status&&(e.status=0):i(this,t),n.cbTime=this.cbTime,u.emit(\"xhr-done\",[t],t),s(\"xhr\",[e,n,this.startTime]))}}function o(t,e){var n=c(e),r=t.params;r.host=n.hostname+\":\"+n.port,r.pathname=n.pathname,t.parsedOrigin=c(e),t.sameOrigin=t.parsedOrigin.sameOrigin}function i(t,e){t.params.status=e.status;var n=v(e,t.lastSize);if(n&&(t.metrics.rxSize=n),t.sameOrigin){var r=e.getResponseHeader(\"X-NewRelic-App-Data\");r&&(t.params.cat=r.split(\", \").pop())}t.loadCaptureCalled=!0}var a=t(\"loader\");if(a.xhrWrappable){var s=t(\"handle\"),c=t(17),f=t(15).generateTracePayload,u=t(\"ee\"),d=[\"load\",\"error\",\"abort\",\"timeout\"],p=d.length,l=t(\"id\"),h=t(21),m=t(20),v=t(18),w=window.XMLHttpRequest;a.features.xhr=!0,t(14),t(7),u.on(\"new-xhr\",function(t){var e=this;e.totalCbs=0,e.called=0,e.cbTime=0,e.end=r,e.ended=!1,e.xhrGuids={},e.lastSize=null,e.loadCaptureCalled=!1,t.addEventListener(\"load\",function(n){i(e,t)},!1),h&&(h>34||h<10)||window.opera||t.addEventListener(\"progress\",function(t){e.lastSize=t.loaded},!1)}),u.on(\"open-xhr-start\",function(t){this.params={method:t[0]},o(this,t[1]),this.metrics={}}),u.on(\"open-xhr-end\",function(t,e){\"loader_config\"in NREUM&&\"xpid\"in NREUM.loader_config&&this.sameOrigin&&e.setRequestHeader(\"X-NewRelic-ID\",NREUM.loader_config.xpid);var n=f(this.parsedOrigin);n&&n.header&&(e.setRequestHeader(\"newrelic\",n.header),this.dt=n)}),u.on(\"send-xhr-start\",function(t,e){var n=this.metrics,r=t[0],o=this;if(n&&r){var i=m(r);i&&(n.txSize=i)}this.startTime=a.now(),this.listener=function(t){try{\"abort\"!==t.type||o.loadCaptureCalled||(o.params.aborted=!0),(\"load\"!==t.type||o.called===o.totalCbs&&(o.onloadCalled||\"function\"!=typeof e.onload))&&o.end(e)}catch(n){try{u.emit(\"internal-error\",[n])}catch(r){}}};for(var s=0;s<p;s++)e.addEventListener(d[s],this.listener,!1)}),u.on(\"xhr-cb-time\",function(t,e,n){this.cbTime+=t,e?this.onloadCalled=!0:this.called+=1,this.called!==this.totalCbs||!this.onloadCalled&&\"function\"==typeof n.onload||this.end(n)}),u.on(\"xhr-load-added\",function(t,e){var n=\"\"+l(t)+!!e;this.xhrGuids&&!this.xhrGuids[n]&&(this.xhrGuids[n]=!0,this.totalCbs+=1)}),u.on(\"xhr-load-removed\",function(t,e){var n=\"\"+l(t)+!!e;this.xhrGuids&&this.xhrGuids[n]&&(delete this.xhrGuids[n],this.totalCbs-=1)}),u.on(\"addEventListener-end\",function(t,e){e instanceof w&&\"load\"===t[0]&&u.emit(\"xhr-load-added\",[t[1],t[2]],e)}),u.on(\"removeEventListener-end\",function(t,e){e instanceof w&&\"load\"===t[0]&&u.emit(\"xhr-load-removed\",[t[1],t[2]],e)}),u.on(\"fn-start\",function(t,e,n){e instanceof w&&(\"onload\"===n&&(this.onload=!0),(\"load\"===(t[0]&&t[0].type)||this.onload)&&(this.xhrCbStart=a.now()))}),u.on(\"fn-end\",function(t,e){this.xhrCbStart&&u.emit(\"xhr-cb-time\",[a.now()-this.xhrCbStart,this.onload,e],e)}),u.on(\"fetch-before-start\",function(t){var e,n=t[1]||{};\"string\"==typeof t[0]?e=t[0]:t[0]&&t[0].url&&(e=t[0].url),e&&(this.parsedOrigin=c(e),this.sameOrigin=this.parsedOrigin.sameOrigin);var r=f(this.parsedOrigin);if(r&&r.header){var o=r.header;if(\"string\"==typeof t[0]){var i={};for(var a in n)i[a]=n[a];i.headers=new Headers(n.headers||{}),i.headers.set(\"newrelic\",o),this.dt=r,t.length>1?t[1]=i:t.push(i)}else t[0]&&t[0].headers&&(t[0].headers.append(\"newrelic\",o),this.dt=r)}})}},{}],17:[function(t,e,n){var r={};e.exports=function(t){if(t in r)return r[t];var e=document.createElement(\"a\"),n=window.location,o={};e.href=t,o.port=e.port;var i=e.href.split(\"://\");!o.port&&i[1]&&(o.port=i[1].split(\"/\")[0].split(\"@\").pop().split(\":\")[1]),o.port&&\"0\"!==o.port||(o.port=\"https\"===i[0]?\"443\":\"80\"),o.hostname=e.hostname||n.hostname,o.pathname=e.pathname,o.protocol=i[0],\"/\"!==o.pathname.charAt(0)&&(o.pathname=\"/\"+o.pathname);var a=!e.protocol||\":\"===e.protocol||e.protocol===n.protocol,s=e.hostname===document.domain&&e.port===n.port;return o.sameOrigin=a&&(!e.hostname||s),\"/\"===o.pathname&&(r[t]=o),o}},{}],18:[function(t,e,n){function r(t,e){var n=t.responseType;return\"json\"===n&&null!==e?e:\"arraybuffer\"===n||\"blob\"===n||\"json\"===n?o(t.response):\"text\"===n||\"document\"===n||\"\"===n||void 0===n?o(t.responseText):void 0}var o=t(20);e.exports=r},{}],19:[function(t,e,n){function r(){}function o(t,e,n){return function(){return i(t,[f.now()].concat(s(arguments)),e?null:this,n),e?void 0:this}}var i=t(\"handle\"),a=t(25),s=t(26),c=t(\"ee\").get(\"tracer\"),f=t(\"loader\"),u=NREUM;\"undefined\"==typeof window.newrelic&&(newrelic=u);var d=[\"setPageViewName\",\"setCustomAttribute\",\"setErrorHandler\",\"finished\",\"addToTrace\",\"inlineHit\",\"addRelease\"],p=\"api-\",l=p+\"ixn-\";a(d,function(t,e){u[e]=o(p+e,!0,\"api\")}),u.addPageAction=o(p+\"addPageAction\",!0),u.setCurrentRouteName=o(p+\"routeName\",!0),e.exports=newrelic,u.interaction=function(){return(new r).get()};var h=r.prototype={createTracer:function(t,e){var n={},r=this,o=\"function\"==typeof e;return i(l+\"tracer\",[f.now(),t,n],r),function(){if(c.emit((o?\"\":\"no-\")+\"fn-start\",[f.now(),r,o],n),o)try{return e.apply(this,arguments)}catch(t){throw c.emit(\"fn-err\",[arguments,this,t],n),t}finally{c.emit(\"fn-end\",[f.now()],n)}}}};a(\"actionText,setName,setAttribute,save,ignore,onEnd,getContext,end,get\".split(\",\"),function(t,e){h[e]=o(l+e)}),newrelic.noticeError=function(t,e){\"string\"==typeof t&&(t=new Error(t)),i(\"err\",[t,f.now(),!1,e])}},{}],20:[function(t,e,n){e.exports=function(t){if(\"string\"==typeof t&&t.length)return t.length;if(\"object\"==typeof t){if(\"undefined\"!=typeof ArrayBuffer&&t instanceof ArrayBuffer&&t.byteLength)return t.byteLength;if(\"undefined\"!=typeof Blob&&t instanceof Blob&&t.size)return t.size;if(!(\"undefined\"!=typeof FormData&&t instanceof FormData))try{return JSON.stringify(t).length}catch(e){return}}}},{}],21:[function(t,e,n){var r=0,o=navigator.userAgent.match(/Firefox[\\\\/\\\\s](\\\\d+\\\\.\\\\d+)/);o&&(r=+o[1]),e.exports=r},{}],22:[function(t,e,n){function r(t,e){var n=t.getEntries();n.forEach(function(t){\"first-paint\"===t.name?c(\"timing\",[\"fp\",Math.floor(t.startTime)]):\"first-contentful-paint\"===t.name&&c(\"timing\",[\"fcp\",Math.floor(t.startTime)])})}function o(t,e){var n=t.getEntries();n.length>0&&c(\"lcp\",[n[n.length-1]])}function i(t){if(t instanceof u&&!p){var e,n=Math.round(t.timeStamp);e=n>1e12?Date.now()-n:f.now()-n,p=!0,c(\"timing\",[\"fi\",n,{type:t.type,fid:e}])}}if(!(\"init\"in NREUM&&\"page_view_timing\"in NREUM.init&&\"enabled\"in NREUM.init.page_view_timing&&NREUM.init.page_view_timing.enabled===!1)){var a,s,c=t(\"handle\"),f=t(\"loader\"),u=NREUM.o.EV;if(\"PerformanceObserver\"in window&&\"function\"==typeof window.PerformanceObserver){a=new PerformanceObserver(r),s=new PerformanceObserver(o);try{a.observe({entryTypes:[\"paint\"]}),s.observe({entryTypes:[\"largest-contentful-paint\"]})}catch(d){}}if(\"addEventListener\"in document){var p=!1,l=[\"click\",\"keydown\",\"mousedown\",\"pointerdown\",\"touchstart\"];l.forEach(function(t){document.addEventListener(t,i,!1)})}}},{}],23:[function(t,e,n){function r(){function t(){return e?15&e[n++]:16*Math.random()|0}var e=null,n=0,r=window.crypto||window.msCrypto;r&&r.getRandomValues&&(e=r.getRandomValues(new Uint8Array(31)));for(var o,i=\"xxxxxxxx-xxxx-4xxx-yxxx-xxxxxxxxxxxx\",a=\"\",s=0;s<i.length;s++)o=i[s],\"x\"===o?a+=t().toString(16):\"y\"===o?(o=3&t()|8,a+=o.toString(16)):a+=o;return a}function o(){function t(){return e?15&e[n++]:16*Math.random()|0}var e=null,n=0,r=window.crypto||window.msCrypto;r&&r.getRandomValues&&Uint8Array&&(e=r.getRandomValues(new Uint8Array(31)));for(var o=[],i=0;i<16;i++)o.push(t().toString(16));return o.join(\"\")}e.exports={generateUuid:r,generateCatId:o}},{}],24:[function(t,e,n){function r(t,e){if(!o)return!1;if(t!==o)return!1;if(!e)return!0;if(!i)return!1;for(var n=i.split(\".\"),r=e.split(\".\"),a=0;a<r.length;a++)if(r[a]!==n[a])return!1;return!0}var o=null,i=null,a=/Version\\\\/(\\\\S+)\\\\s+Safari/;if(navigator.userAgent){var s=navigator.userAgent,c=s.match(a);c&&s.indexOf(\"Chrome\")===-1&&s.indexOf(\"Chromium\")===-1&&(o=\"Safari\",i=c[1])}e.exports={agent:o,version:i,match:r}},{}],25:[function(t,e,n){function r(t,e){var n=[],r=\"\",i=0;for(r in t)o.call(t,r)&&(n[i]=e(r,t[r]),i+=1);return n}var o=Object.prototype.hasOwnProperty;e.exports=r},{}],26:[function(t,e,n){function r(t,e,n){e||(e=0),\"undefined\"==typeof n&&(n=t?t.length:0);for(var r=-1,o=n-e||0,i=Array(o<0?0:o);++r<o;)i[r]=t[e+r];return i}e.exports=r},{}],27:[function(t,e,n){e.exports={exists:\"undefined\"!=typeof window.performance&&window.performance.timing&&\"undefined\"!=typeof window.performance.timing.navigationStart}},{}],ee:[function(t,e,n){function r(){}function o(t){function e(t){return t&&t instanceof r?t:t?c(t,s,i):i()}function n(n,r,o,i){if(!p.aborted||i){t&&t(n,r,o);for(var a=e(o),s=m(n),c=s.length,f=0;f<c;f++)s[f].apply(a,r);var d=u[y[n]];return d&&d.push([x,n,r,a]),a}}function l(t,e){g[t]=m(t).concat(e)}function h(t,e){var n=g[t];if(n)for(var r=0;r<n.length;r++)n[r]===e&&n.splice(r,1)}function m(t){return g[t]||[]}function v(t){return d[t]=d[t]||o(n)}function w(t,e){f(t,function(t,n){e=e||\"feature\",y[n]=e,e in u||(u[e]=[])})}var g={},y={},x={on:l,addEventListener:l,removeEventListener:h,emit:n,get:v,listeners:m,context:e,buffer:w,abort:a,aborted:!1};return x}function i(){return new r}function a(){(u.api||u.feature)&&(p.aborted=!0,u=p.backlog={})}var s=\"nr@context\",c=t(\"gos\"),f=t(25),u={},d={},p=e.exports=o();p.backlog=u},{}],gos:[function(t,e,n){function r(t,e,n){if(o.call(t,e))return t[e];var r=n();if(Object.defineProperty&&Object.keys)try{return Object.defineProperty(t,e,{value:r,writable:!0,enumerable:!1}),r}catch(i){}return t[e]=r,r}var o=Object.prototype.hasOwnProperty;e.exports=r},{}],handle:[function(t,e,n){function r(t,e,n,r){o.buffer([t],r),o.emit(t,e,n)}var o=t(\"ee\").get(\"handle\");e.exports=r,r.ee=o},{}],id:[function(t,e,n){function r(t){var e=typeof t;return!t||\"object\"!==e&&\"function\"!==e?-1:t===window?0:a(t,i,function(){return o++})}var o=1,i=\"nr@id\",a=t(\"gos\");e.exports=r},{}],loader:[function(t,e,n){function r(){if(!E++){var t=b.info=NREUM.info,e=l.getElementsByTagName(\"script\")[0];if(setTimeout(u.abort,3e4),!(t&&t.licenseKey&&t.applicationID&&e))return u.abort();f(y,function(e,n){t[e]||(t[e]=n)}),c(\"mark\",[\"onload\",a()+b.offset],null,\"api\");var n=l.createElement(\"script\");n.src=\"https://\"+t.agent,e.parentNode.insertBefore(n,e)}}function o(){\"complete\"===l.readyState&&i()}function i(){c(\"mark\",[\"domContent\",a()+b.offset],null,\"api\")}function a(){return O.exists&&performance.now?Math.round(performance.now()):(s=Math.max((new Date).getTime(),s))-b.offset}var s=(new Date).getTime(),c=t(\"handle\"),f=t(25),u=t(\"ee\"),d=t(24),p=window,l=p.document,h=\"addEventListener\",m=\"attachEvent\",v=p.XMLHttpRequest,w=v&&v.prototype;NREUM.o={ST:setTimeout,SI:p.setImmediate,CT:clearTimeout,XHR:v,REQ:p.Request,EV:p.Event,PR:p.Promise,MO:p.MutationObserver};var g=\"\"+location,y={beacon:\"bam.nr-data.net\",errorBeacon:\"bam.nr-data.net\",agent:\"js-agent.newrelic.com/nr-spa-1167.min.js\"},x=v&&w&&w[h]&&!/CriOS/.test(navigator.userAgent),b=e.exports={offset:s,now:a,origin:g,features:{},xhrWrappable:x,userAgent:d};t(19),t(22),l[h]?(l[h](\"DOMContentLoaded\",i,!1),p[h](\"load\",r,!1)):(l[m](\"onreadystatechange\",o),p[m](\"onload\",r)),c(\"mark\",[\"firstbyte\",s],null,\"api\");var E=0,O=t(27)},{}],\"wrap-function\":[function(t,e,n){function r(t){return!(t&&t instanceof Function&&t.apply&&!t[a])}var o=t(\"ee\"),i=t(26),a=\"nr@original\",s=Object.prototype.hasOwnProperty,c=!1;e.exports=function(t,e){function n(t,e,n,o){function nrWrapper(){var r,a,s,c;try{a=this,r=i(arguments),s=\"function\"==typeof n?n(r,a):n||{}}catch(f){p([f,\"\",[r,a,o],s])}u(e+\"start\",[r,a,o],s);try{return c=t.apply(a,r)}catch(d){throw u(e+\"err\",[r,a,d],s),d}finally{u(e+\"end\",[r,a,c],s)}}return r(t)?t:(e||(e=\"\"),nrWrapper[a]=t,d(t,nrWrapper),nrWrapper)}function f(t,e,o,i){o||(o=\"\");var a,s,c,f=\"-\"===o.charAt(0);for(c=0;c<e.length;c++)s=e[c],a=t[s],r(a)||(t[s]=n(a,f?s+o:o,i,s))}function u(n,r,o){if(!c||e){var i=c;c=!0;try{t.emit(n,r,o,e)}catch(a){p([a,n,r,o])}c=i}}function d(t,e){if(Object.defineProperty&&Object.keys)try{var n=Object.keys(t);return n.forEach(function(n){Object.defineProperty(e,n,{get:function(){return t[n]},set:function(e){return t[n]=e,e}})}),e}catch(r){p([r])}for(var o in t)s.call(t,o)&&(e[o]=t[o]);return e}function p(e){try{t.emit(\"internal-error\",e)}catch(n){}}return t||(t=o),n.inPlace=f,n.flag=a,n}},{}]},{},[\"loader\",2,16,5,3,4]);']"
            ]
          },
          "metadata": {
            "tags": []
          },
          "execution_count": 7
        }
      ]
    },
    {
      "cell_type": "markdown",
      "metadata": {
        "id": "5w18swJE6d7O",
        "colab_type": "text"
      },
      "source": [
        "## Links and Stuff"
      ]
    },
    {
      "cell_type": "code",
      "metadata": {
        "id": "F6suTkE16fA8",
        "colab_type": "code",
        "colab": {}
      },
      "source": [
        "all_links = soup.find_all(\"a\")\n",
        "\n",
        "records.update({\"n_links\":len(all_links)})\n"
      ],
      "execution_count": 0,
      "outputs": []
    },
    {
      "cell_type": "code",
      "metadata": {
        "id": "_f4wWwcw6gSI",
        "colab_type": "code",
        "colab": {}
      },
      "source": [
        "# We want the hrefs from the soup objects:\n",
        "all_links_href = [x.get(\"href\",None) for x in all_links]"
      ],
      "execution_count": 0,
      "outputs": []
    },
    {
      "cell_type": "code",
      "metadata": {
        "id": "j0NP3onD6jg-",
        "colab_type": "code",
        "outputId": "8f647b8d-37c2-4a15-92fc-a2a94477df6c",
        "colab": {
          "base_uri": "https://localhost:8080/",
          "height": 0
        }
      },
      "source": [
        "# Get social media links\n",
        "pattern = re.compile(\"(facebook|youtube|instagram|twitter|medium)\")\n",
        "\n",
        "\n",
        "for href in all_links_href:\n",
        "    if len(pattern.findall(href))>0:\n",
        "        account = pattern.findall(href)[0]\n",
        "        records.update({account:href})\n",
        "        \n",
        "records"
      ],
      "execution_count": 10,
      "outputs": [
        {
          "output_type": "execute_result",
          "data": {
            "text/plain": [
              "{'description': 'Meet other local Python Programming Language enthusiasts!',\n",
              " 'facebook': 'https://www.facebook.com/meetup/',\n",
              " 'instagram': 'https://www.instagram.com/meetup/',\n",
              " 'medium': 'https://medium.com/meetup',\n",
              " 'n_links': 69,\n",
              " 'title': 'The New York Python Meetup Group (New York, NY) | Meetup',\n",
              " 'twitter': 'https://twitter.com/Meetup/',\n",
              " 'youtube': 'https://www.youtube.com/meetup'}"
            ]
          },
          "metadata": {
            "tags": []
          },
          "execution_count": 10
        }
      ]
    },
    {
      "cell_type": "markdown",
      "metadata": {
        "id": "zbiOi4e-6pqt",
        "colab_type": "text"
      },
      "source": [
        "# To do: Scale\n",
        "\n",
        "To do:\n",
        "\n",
        "* compile all functions into a single function which ingests a url and spits out a record for the things.\n",
        "* structure records into a pandas dataframe\n",
        "* make a single data observation >> data visualization from your findings\n",
        "\n",
        "We will do:\n",
        "* find more creepy stuff!"
      ]
    },
    {
      "cell_type": "code",
      "metadata": {
        "id": "Vl_3tQEU6Aag",
        "colab_type": "code",
        "colab": {}
      },
      "source": [
        ""
      ],
      "execution_count": 0,
      "outputs": []
    },
    {
      "cell_type": "markdown",
      "metadata": {
        "id": "vx06DL1G9OEb",
        "colab_type": "text"
      },
      "source": [
        "# Yaakov – Get links to all Broadway Shows"
      ]
    },
    {
      "cell_type": "markdown",
      "metadata": {
        "id": "4Ln75d6kEqhJ",
        "colab_type": "text"
      },
      "source": [
        "## Define Functions"
      ]
    },
    {
      "cell_type": "code",
      "metadata": {
        "id": "qua0K3Jq_dwP",
        "colab_type": "code",
        "colab": {}
      },
      "source": [
        "def get_soup(url):\n",
        "  \"\"\"\n",
        "  Gets bs4 soup from url. No repeated variables.\n",
        "  \"\"\"\n",
        "  r = requests.get(url)\n",
        "  html = r.text\n",
        "  soup = BeautifulSoup(html, 'html.parser')\n",
        "  return soup\n",
        "\n",
        "def get_key_for_url(url):\n",
        "  \"\"\"\n",
        "  Returns the social attribute of a url (facebook, twitter etc)\n",
        "  \"\"\"\n",
        "  pattern = re.compile(\"(facebook|youtube|instagram|twitter|medium)\")\n",
        "\n",
        "  if len(pattern.findall(url))>0:\n",
        "      account = pattern.findall(url)[0]\n",
        "  else:\n",
        "    account = \"website\"\n",
        "    \n",
        "  return account\n",
        "\n",
        "\n",
        "\n",
        "def get_title(soup, tag_name):\n",
        "  \"\"\"\n",
        "  Get the title from a beautiful soup object\n",
        "  \"\"\"\n",
        "\n",
        "  # Try to find it in the soup\n",
        "  # tag_name = \"title\" \n",
        "\n",
        "  result = soup.head.find(tag_name)\n",
        "\n",
        "  if not result:\n",
        "      result = soup.find(\"meta\",  property=f\"og:{tag_name}\")\n",
        "      result = result.get(\"content\") if result else None\n",
        "      \n",
        "  else:\n",
        "      result = result.text\n",
        "\n",
        "  return result\n",
        "\n",
        "\n",
        "def who_made_this_website(soup):\n",
        "  \"\"\"\n",
        "  Will tell you which broadway marketing company made this site\n",
        "  \"\"\"\n",
        "  if soup.find(\"span\",{\"class\":\"serino\"}):\n",
        "    return \"serino\"\n",
        "  else:\n",
        "    return \"na\"\n",
        "\n",
        "def find_n_buttons(soup):\n",
        "  n_buttons = soup.find_all(\"div\", {\"class\":re.compile(\".*btn*.\")})\n",
        "  if n_buttons:\n",
        "    return len(n_buttons)\n",
        "  else:\n",
        "   return 0\n",
        "\n",
        "def find_n_calendar(soup):\n",
        "  n_calendar = soup.find_all(\"table\", {\"class\":re.compile(\".*calendar*.\")})\n",
        "  if n_calendar:\n",
        "    return len(n_calendar)\n",
        "  else:\n",
        "   return 0\n",
        "\n",
        "\n",
        "\n",
        "import numpy as np\n",
        "\n",
        "def get_words_and_chars(soup):\n",
        "  \"\"\"\n",
        "  Returns the number of words, number of characters per page, and average characters per word\n",
        "  \"\"\"\n",
        "  text = soup.body.get_text().splitlines()\n",
        "  f_clean = lambda x: False if x.strip()=='' else True if not any(z in x for z in ['{', '}', '<']) else False\n",
        "  lines = [x.strip() for x in text if f_clean(x)]\n",
        "  all_text = '\\n'.join(lines).split()\n",
        "\n",
        "  n_words = len(all_text)\n",
        "  n_chars = len(' '.join(lines))\n",
        "  chars_per_word = [len(x) for x in lines]\n",
        "  avg_chars_per_word = np.mean(chars_per_word)\n",
        "  return n_words, n_chars, avg_chars_per_word"
      ],
      "execution_count": 0,
      "outputs": []
    },
    {
      "cell_type": "markdown",
      "metadata": {
        "id": "PFO87iBnEsRr",
        "colab_type": "text"
      },
      "source": [
        "## DO Some Stuff"
      ]
    },
    {
      "cell_type": "code",
      "metadata": {
        "id": "lLIilZqQ9RZ4",
        "colab_type": "code",
        "colab": {}
      },
      "source": [
        "url = \"http://www.playbill.com/productions\"\n",
        "\n",
        "r = requests.get(url)\n",
        "html = r.text\n",
        "soup = BeautifulSoup(html, 'html.parser')"
      ],
      "execution_count": 0,
      "outputs": []
    },
    {
      "cell_type": "code",
      "metadata": {
        "id": "yV04gB6R9VG2",
        "colab_type": "code",
        "colab": {}
      },
      "source": [
        "# get all links\n",
        "all_links = [x.get(\"href\",None) for x in soup.find_all(\"a\")]\n",
        "\n",
        "# Get all shows\n",
        "all_shows = list({\"http://www.playbill.com\"+x for x in all_links if \"production/\" in str(x)})"
      ],
      "execution_count": 0,
      "outputs": []
    },
    {
      "cell_type": "code",
      "metadata": {
        "id": "s88NjxbB_ICI",
        "colab_type": "code",
        "colab": {}
      },
      "source": [
        "show_records = []\n",
        "for url in all_shows:\n",
        "  # Get the content for each page\n",
        "  soup = get_soup(url)\n",
        "  show_name = soup.find(\"h2\", {\"class\":\"bsp-bio-title \"}).text\n",
        "  s_all_links = soup.find_all(\"a\", {\"class\":\"bsp-bio-social-link\"})\n",
        "  s_all_links = [x.get(\"href\",None) for x in s_all_links]\n",
        "\n",
        "  # Save\n",
        "  rec = {\"show name\":show_name}\n",
        "\n",
        "  # Get url types\n",
        "  for href in s_all_links:\n",
        "    href_key = get_key_for_url(href)\n",
        "    rec[href_key] = href\n",
        "\n",
        "  \n",
        "  show_records.append(rec)"
      ],
      "execution_count": 0,
      "outputs": []
    },
    {
      "cell_type": "code",
      "metadata": {
        "id": "ud6m_SZD_W2m",
        "colab_type": "code",
        "colab": {}
      },
      "source": [
        "# If you wanted a df\n",
        "import pandas as pd\n",
        "df = pd.DataFrame.from_records(show_records)\n",
        "\n",
        "# If you wanted to work with raw\n",
        "# show_urls = [{x.get(\"show name\"):x.get(\"website\")} for x in show_records]"
      ],
      "execution_count": 0,
      "outputs": []
    },
    {
      "cell_type": "markdown",
      "metadata": {
        "id": "0CTEaqaXEcWv",
        "colab_type": "text"
      },
      "source": [
        "## Go to Site and Find Stuff"
      ]
    },
    {
      "cell_type": "code",
      "metadata": {
        "id": "gm7v-ajnESaJ",
        "colab_type": "code",
        "colab": {
          "base_uri": "https://localhost:8080/",
          "height": 255
        },
        "outputId": "8efc02d3-8d2e-4679-943c-b073e390ba33"
      },
      "source": [
        "records = []\n",
        "\n",
        "i = 0\n",
        "for s_name, s_url in df[[\"show name\",\"website\"]].dropna().values:\n",
        "  soup = get_soup(s_url)\n",
        "  if soup.title.text ==\"403 Forbidden\":\n",
        "    print(f\"not able to scrape {s_url}\")\n",
        "    continue\n",
        "\n",
        "  title = get_title(soup, \"title\")\n",
        "  desc = get_title(soup, \"description\")\n",
        "  website_by = who_made_this_website(soup)\n",
        "\n",
        "  # Technical stuff:\n",
        "  n_buttons = find_n_buttons(soup)\n",
        "  n_calendars = find_n_calendar(soup)\n",
        "\n",
        "  n_images = len(soup.find_all(\"img\"))\n",
        "\n",
        "  # Words and stuff\n",
        "  n_words, n_chars, avg_chars_per_word = get_words_and_chars(soup)\n",
        "\n",
        "  rec = {\n",
        "      \"show name\":s_name,\n",
        "      \"website title\":title,\n",
        "      \"website description\":desc,\n",
        "      \"website by\":website_by,\n",
        "      \"n_buttons\":n_buttons,\n",
        "      \"n_calendars\":n_calendars,\n",
        "      \"n_images\":n_images,\n",
        "      \"n_words\":n_words,\n",
        "      \"n_chars\":n_chars,\n",
        "      \"average chars per word\":avg_chars_per_word\n",
        "\n",
        "    }\n",
        "\n",
        "  records.append(rec)"
      ],
      "execution_count": 16,
      "outputs": [
        {
          "output_type": "stream",
          "text": [
            "not able to scrape https://hangmenbroadway.com/\n",
            "not able to scrape https://plazasuitebroadway.com\n",
            "not able to scrape https://theinheritanceplay.com/\n",
            "not able to scrape http://www.companymusical.com\n",
            "not able to scrape http://hamiltonbroadway.com\n",
            "not able to scrape http://chicagothemusical.com\n"
          ],
          "name": "stdout"
        },
        {
          "output_type": "stream",
          "text": [
            "/usr/local/lib/python3.6/dist-packages/numpy/core/fromnumeric.py:3257: RuntimeWarning: Mean of empty slice.\n",
            "  out=out, **kwargs)\n",
            "/usr/local/lib/python3.6/dist-packages/numpy/core/_methods.py:161: RuntimeWarning: invalid value encountered in double_scalars\n",
            "  ret = ret.dtype.type(ret / rcount)\n"
          ],
          "name": "stderr"
        },
        {
          "output_type": "stream",
          "text": [
            "not able to scrape https://mrsdoubtfirebroadway.com/\n",
            "not able to scrape https://moulinrougemusical.com/\n",
            "not able to scrape http://thephantomoftheopera.com\n",
            "not able to scrape https://singstreet.com/\n"
          ],
          "name": "stdout"
        }
      ]
    },
    {
      "cell_type": "code",
      "metadata": {
        "id": "GQEuvncAHoMw",
        "colab_type": "code",
        "colab": {}
      },
      "source": [
        "new_df = pd.DataFrame.from_records(records)"
      ],
      "execution_count": 0,
      "outputs": []
    },
    {
      "cell_type": "markdown",
      "metadata": {
        "id": "7TybGSmVSZMI",
        "colab_type": "text"
      },
      "source": [
        "## The Fruit of My Labor"
      ]
    },
    {
      "cell_type": "code",
      "metadata": {
        "id": "ypkP6ufHSxLz",
        "colab_type": "code",
        "colab": {
          "base_uri": "https://localhost:8080/",
          "height": 196
        },
        "outputId": "ff835901-5c03-40da-853b-c6f25ba11cd9"
      },
      "source": [
        "new_df.head(2)"
      ],
      "execution_count": 18,
      "outputs": [
        {
          "output_type": "execute_result",
          "data": {
            "text/html": [
              "<div>\n",
              "<style scoped>\n",
              "    .dataframe tbody tr th:only-of-type {\n",
              "        vertical-align: middle;\n",
              "    }\n",
              "\n",
              "    .dataframe tbody tr th {\n",
              "        vertical-align: top;\n",
              "    }\n",
              "\n",
              "    .dataframe thead th {\n",
              "        text-align: right;\n",
              "    }\n",
              "</style>\n",
              "<table border=\"1\" class=\"dataframe\">\n",
              "  <thead>\n",
              "    <tr style=\"text-align: right;\">\n",
              "      <th></th>\n",
              "      <th>show name</th>\n",
              "      <th>website title</th>\n",
              "      <th>website description</th>\n",
              "      <th>website by</th>\n",
              "      <th>n_buttons</th>\n",
              "      <th>n_calendars</th>\n",
              "      <th>n_images</th>\n",
              "      <th>n_words</th>\n",
              "      <th>n_chars</th>\n",
              "      <th>average chars per word</th>\n",
              "    </tr>\n",
              "  </thead>\n",
              "  <tbody>\n",
              "    <tr>\n",
              "      <th>0</th>\n",
              "      <td>Harry Potter and the Cursed Child, Parts One a...</td>\n",
              "      <td>Harry Potter And The Cursed Child | Global Web...</td>\n",
              "      <td>The official global website for Harry Potter a...</td>\n",
              "      <td>na</td>\n",
              "      <td>0</td>\n",
              "      <td>0</td>\n",
              "      <td>17</td>\n",
              "      <td>83</td>\n",
              "      <td>720</td>\n",
              "      <td>24.750000</td>\n",
              "    </tr>\n",
              "    <tr>\n",
              "      <th>1</th>\n",
              "      <td>West Side Story</td>\n",
              "      <td>West Side Story on Broadway</td>\n",
              "      <td>West Side Story on Broadway. Previews begin De...</td>\n",
              "      <td>na</td>\n",
              "      <td>0</td>\n",
              "      <td>0</td>\n",
              "      <td>0</td>\n",
              "      <td>15</td>\n",
              "      <td>100</td>\n",
              "      <td>6.769231</td>\n",
              "    </tr>\n",
              "  </tbody>\n",
              "</table>\n",
              "</div>"
            ],
            "text/plain": [
              "                                           show name  ... average chars per word\n",
              "0  Harry Potter and the Cursed Child, Parts One a...  ...              24.750000\n",
              "1                                    West Side Story  ...               6.769231\n",
              "\n",
              "[2 rows x 10 columns]"
            ]
          },
          "metadata": {
            "tags": []
          },
          "execution_count": 18
        }
      ]
    },
    {
      "cell_type": "code",
      "metadata": {
        "id": "ISKywolpSbSV",
        "colab_type": "code",
        "colab": {
          "base_uri": "https://localhost:8080/",
          "height": 657
        },
        "outputId": "e505157c-853f-4b5c-a368-ad7bcca04d5d"
      },
      "source": [
        "import matplotlib.pyplot as plt\n",
        "new_df.plot(kind='bar', x='show name',y=['n_buttons', 'n_images','n_chars','average chars per word'], figsize=(14,6))\n",
        "plt.yscale('log')\n",
        "plt.show()"
      ],
      "execution_count": 19,
      "outputs": [
        {
          "output_type": "display_data",
          "data": {
            "image/png": "[encoded data removed]",
            "text/plain": [
              "<Figure size 1008x432 with 1 Axes>"
            ]
          },
          "metadata": {
            "tags": []
          }
        }
      ]
    },
    {
      "cell_type": "code",
      "metadata": {
        "id": "A-0UODtPVOdm",
        "colab_type": "code",
        "colab": {
          "base_uri": "https://localhost:8080/",
          "height": 166
        },
        "outputId": "f80ea946-de3b-4aec-d394-915fbf3ded44"
      },
      "source": [
        "corr = new_df.corr()\n",
        "corr.style.background_gradient(cmap='coolwarm').set_precision(2)"
      ],
      "execution_count": 20,
      "outputs": [
        {
          "output_type": "execute_result",
          "data": {
            "text/html": [
              "<style  type=\"text/css\" >\n",
              "    #T_d283a872_51b0_11ea_9abb_0242ac1c0002row0_col0 {\n",
              "            background-color:  #b40426;\n",
              "            color:  #f1f1f1;\n",
              "        }    #T_d283a872_51b0_11ea_9abb_0242ac1c0002row0_col1 {\n",
              "            background-color:  #e7d7ce;\n",
              "            color:  #000000;\n",
              "        }    #T_d283a872_51b0_11ea_9abb_0242ac1c0002row0_col2 {\n",
              "            background-color:  #e9d5cb;\n",
              "            color:  #000000;\n",
              "        }    #T_d283a872_51b0_11ea_9abb_0242ac1c0002row0_col3 {\n",
              "            background-color:  #3b4cc0;\n",
              "            color:  #f1f1f1;\n",
              "        }    #T_d283a872_51b0_11ea_9abb_0242ac1c0002row0_col4 {\n",
              "            background-color:  #3b4cc0;\n",
              "            color:  #f1f1f1;\n",
              "        }    #T_d283a872_51b0_11ea_9abb_0242ac1c0002row0_col5 {\n",
              "            background-color:  #3b4cc0;\n",
              "            color:  #f1f1f1;\n",
              "        }    #T_d283a872_51b0_11ea_9abb_0242ac1c0002row1_col0 {\n",
              "            background-color:  #ead4c8;\n",
              "            color:  #000000;\n",
              "        }    #T_d283a872_51b0_11ea_9abb_0242ac1c0002row1_col1 {\n",
              "            background-color:  #b40426;\n",
              "            color:  #f1f1f1;\n",
              "        }    #T_d283a872_51b0_11ea_9abb_0242ac1c0002row1_col2 {\n",
              "            background-color:  #aec9fc;\n",
              "            color:  #000000;\n",
              "        }    #T_d283a872_51b0_11ea_9abb_0242ac1c0002row1_col3 {\n",
              "            background-color:  #89acfd;\n",
              "            color:  #000000;\n",
              "        }    #T_d283a872_51b0_11ea_9abb_0242ac1c0002row1_col4 {\n",
              "            background-color:  #455cce;\n",
              "            color:  #f1f1f1;\n",
              "        }    #T_d283a872_51b0_11ea_9abb_0242ac1c0002row1_col5 {\n",
              "            background-color:  #4358cb;\n",
              "            color:  #f1f1f1;\n",
              "        }    #T_d283a872_51b0_11ea_9abb_0242ac1c0002row2_col0 {\n",
              "            background-color:  #edd1c2;\n",
              "            color:  #000000;\n",
              "        }    #T_d283a872_51b0_11ea_9abb_0242ac1c0002row2_col1 {\n",
              "            background-color:  #b2ccfb;\n",
              "            color:  #000000;\n",
              "        }    #T_d283a872_51b0_11ea_9abb_0242ac1c0002row2_col2 {\n",
              "            background-color:  #b40426;\n",
              "            color:  #f1f1f1;\n",
              "        }    #T_d283a872_51b0_11ea_9abb_0242ac1c0002row2_col3 {\n",
              "            background-color:  #aec9fc;\n",
              "            color:  #000000;\n",
              "        }    #T_d283a872_51b0_11ea_9abb_0242ac1c0002row2_col4 {\n",
              "            background-color:  #cbd8ee;\n",
              "            color:  #000000;\n",
              "        }    #T_d283a872_51b0_11ea_9abb_0242ac1c0002row2_col5 {\n",
              "            background-color:  #4a63d3;\n",
              "            color:  #f1f1f1;\n",
              "        }    #T_d283a872_51b0_11ea_9abb_0242ac1c0002row3_col0 {\n",
              "            background-color:  #82a6fb;\n",
              "            color:  #000000;\n",
              "        }    #T_d283a872_51b0_11ea_9abb_0242ac1c0002row3_col1 {\n",
              "            background-color:  #bcd2f7;\n",
              "            color:  #000000;\n",
              "        }    #T_d283a872_51b0_11ea_9abb_0242ac1c0002row3_col2 {\n",
              "            background-color:  #d3dbe7;\n",
              "            color:  #000000;\n",
              "        }    #T_d283a872_51b0_11ea_9abb_0242ac1c0002row3_col3 {\n",
              "            background-color:  #b40426;\n",
              "            color:  #f1f1f1;\n",
              "        }    #T_d283a872_51b0_11ea_9abb_0242ac1c0002row3_col4 {\n",
              "            background-color:  #cf453c;\n",
              "            color:  #f1f1f1;\n",
              "        }    #T_d283a872_51b0_11ea_9abb_0242ac1c0002row3_col5 {\n",
              "            background-color:  #a5c3fe;\n",
              "            color:  #000000;\n",
              "        }    #T_d283a872_51b0_11ea_9abb_0242ac1c0002row4_col0 {\n",
              "            background-color:  #7da0f9;\n",
              "            color:  #000000;\n",
              "        }    #T_d283a872_51b0_11ea_9abb_0242ac1c0002row4_col1 {\n",
              "            background-color:  #7ea1fa;\n",
              "            color:  #000000;\n",
              "        }    #T_d283a872_51b0_11ea_9abb_0242ac1c0002row4_col2 {\n",
              "            background-color:  #e3d9d3;\n",
              "            color:  #000000;\n",
              "        }    #T_d283a872_51b0_11ea_9abb_0242ac1c0002row4_col3 {\n",
              "            background-color:  #d0473d;\n",
              "            color:  #f1f1f1;\n",
              "        }    #T_d283a872_51b0_11ea_9abb_0242ac1c0002row4_col4 {\n",
              "            background-color:  #b40426;\n",
              "            color:  #f1f1f1;\n",
              "        }    #T_d283a872_51b0_11ea_9abb_0242ac1c0002row4_col5 {\n",
              "            background-color:  #cdd9ec;\n",
              "            color:  #000000;\n",
              "        }    #T_d283a872_51b0_11ea_9abb_0242ac1c0002row5_col0 {\n",
              "            background-color:  #3b4cc0;\n",
              "            color:  #f1f1f1;\n",
              "        }    #T_d283a872_51b0_11ea_9abb_0242ac1c0002row5_col1 {\n",
              "            background-color:  #3b4cc0;\n",
              "            color:  #f1f1f1;\n",
              "        }    #T_d283a872_51b0_11ea_9abb_0242ac1c0002row5_col2 {\n",
              "            background-color:  #3b4cc0;\n",
              "            color:  #f1f1f1;\n",
              "        }    #T_d283a872_51b0_11ea_9abb_0242ac1c0002row5_col3 {\n",
              "            background-color:  #6180e9;\n",
              "            color:  #000000;\n",
              "        }    #T_d283a872_51b0_11ea_9abb_0242ac1c0002row5_col4 {\n",
              "            background-color:  #9ebeff;\n",
              "            color:  #000000;\n",
              "        }    #T_d283a872_51b0_11ea_9abb_0242ac1c0002row5_col5 {\n",
              "            background-color:  #b40426;\n",
              "            color:  #f1f1f1;\n",
              "        }</style><table id=\"T_d283a872_51b0_11ea_9abb_0242ac1c0002\" ><thead>    <tr>        <th class=\"blank level0\" ></th>        <th class=\"col_heading level0 col0\" >n_buttons</th>        <th class=\"col_heading level0 col1\" >n_calendars</th>        <th class=\"col_heading level0 col2\" >n_images</th>        <th class=\"col_heading level0 col3\" >n_words</th>        <th class=\"col_heading level0 col4\" >n_chars</th>        <th class=\"col_heading level0 col5\" >average chars per word</th>    </tr></thead><tbody>\n",
              "                <tr>\n",
              "                        <th id=\"T_d283a872_51b0_11ea_9abb_0242ac1c0002level0_row0\" class=\"row_heading level0 row0\" >n_buttons</th>\n",
              "                        <td id=\"T_d283a872_51b0_11ea_9abb_0242ac1c0002row0_col0\" class=\"data row0 col0\" >1</td>\n",
              "                        <td id=\"T_d283a872_51b0_11ea_9abb_0242ac1c0002row0_col1\" class=\"data row0 col1\" >0.48</td>\n",
              "                        <td id=\"T_d283a872_51b0_11ea_9abb_0242ac1c0002row0_col2\" class=\"data row0 col2\" >0.5</td>\n",
              "                        <td id=\"T_d283a872_51b0_11ea_9abb_0242ac1c0002row0_col3\" class=\"data row0 col3\" >0.088</td>\n",
              "                        <td id=\"T_d283a872_51b0_11ea_9abb_0242ac1c0002row0_col4\" class=\"data row0 col4\" >0.068</td>\n",
              "                        <td id=\"T_d283a872_51b0_11ea_9abb_0242ac1c0002row0_col5\" class=\"data row0 col5\" >-0.17</td>\n",
              "            </tr>\n",
              "            <tr>\n",
              "                        <th id=\"T_d283a872_51b0_11ea_9abb_0242ac1c0002level0_row1\" class=\"row_heading level0 row1\" >n_calendars</th>\n",
              "                        <td id=\"T_d283a872_51b0_11ea_9abb_0242ac1c0002row1_col0\" class=\"data row1 col0\" >0.48</td>\n",
              "                        <td id=\"T_d283a872_51b0_11ea_9abb_0242ac1c0002row1_col1\" class=\"data row1 col1\" >1</td>\n",
              "                        <td id=\"T_d283a872_51b0_11ea_9abb_0242ac1c0002row1_col2\" class=\"data row1 col2\" >0.27</td>\n",
              "                        <td id=\"T_d283a872_51b0_11ea_9abb_0242ac1c0002row1_col3\" class=\"data row1 col3\" >0.31</td>\n",
              "                        <td id=\"T_d283a872_51b0_11ea_9abb_0242ac1c0002row1_col4\" class=\"data row1 col4\" >0.1</td>\n",
              "                        <td id=\"T_d283a872_51b0_11ea_9abb_0242ac1c0002row1_col5\" class=\"data row1 col5\" >-0.13</td>\n",
              "            </tr>\n",
              "            <tr>\n",
              "                        <th id=\"T_d283a872_51b0_11ea_9abb_0242ac1c0002level0_row2\" class=\"row_heading level0 row2\" >n_images</th>\n",
              "                        <td id=\"T_d283a872_51b0_11ea_9abb_0242ac1c0002row2_col0\" class=\"data row2 col0\" >0.5</td>\n",
              "                        <td id=\"T_d283a872_51b0_11ea_9abb_0242ac1c0002row2_col1\" class=\"data row2 col1\" >0.27</td>\n",
              "                        <td id=\"T_d283a872_51b0_11ea_9abb_0242ac1c0002row2_col2\" class=\"data row2 col2\" >1</td>\n",
              "                        <td id=\"T_d283a872_51b0_11ea_9abb_0242ac1c0002row2_col3\" class=\"data row2 col3\" >0.4</td>\n",
              "                        <td id=\"T_d283a872_51b0_11ea_9abb_0242ac1c0002row2_col4\" class=\"data row2 col4\" >0.47</td>\n",
              "                        <td id=\"T_d283a872_51b0_11ea_9abb_0242ac1c0002row2_col5\" class=\"data row2 col5\" >-0.11</td>\n",
              "            </tr>\n",
              "            <tr>\n",
              "                        <th id=\"T_d283a872_51b0_11ea_9abb_0242ac1c0002level0_row3\" class=\"row_heading level0 row3\" >n_words</th>\n",
              "                        <td id=\"T_d283a872_51b0_11ea_9abb_0242ac1c0002row3_col0\" class=\"data row3 col0\" >0.088</td>\n",
              "                        <td id=\"T_d283a872_51b0_11ea_9abb_0242ac1c0002row3_col1\" class=\"data row3 col1\" >0.31</td>\n",
              "                        <td id=\"T_d283a872_51b0_11ea_9abb_0242ac1c0002row3_col2\" class=\"data row3 col2\" >0.4</td>\n",
              "                        <td id=\"T_d283a872_51b0_11ea_9abb_0242ac1c0002row3_col3\" class=\"data row3 col3\" >1</td>\n",
              "                        <td id=\"T_d283a872_51b0_11ea_9abb_0242ac1c0002row3_col4\" class=\"data row3 col4\" >0.93</td>\n",
              "                        <td id=\"T_d283a872_51b0_11ea_9abb_0242ac1c0002row3_col5\" class=\"data row3 col5\" >0.2</td>\n",
              "            </tr>\n",
              "            <tr>\n",
              "                        <th id=\"T_d283a872_51b0_11ea_9abb_0242ac1c0002level0_row4\" class=\"row_heading level0 row4\" >n_chars</th>\n",
              "                        <td id=\"T_d283a872_51b0_11ea_9abb_0242ac1c0002row4_col0\" class=\"data row4 col0\" >0.068</td>\n",
              "                        <td id=\"T_d283a872_51b0_11ea_9abb_0242ac1c0002row4_col1\" class=\"data row4 col1\" >0.1</td>\n",
              "                        <td id=\"T_d283a872_51b0_11ea_9abb_0242ac1c0002row4_col2\" class=\"data row4 col2\" >0.47</td>\n",
              "                        <td id=\"T_d283a872_51b0_11ea_9abb_0242ac1c0002row4_col3\" class=\"data row4 col3\" >0.93</td>\n",
              "                        <td id=\"T_d283a872_51b0_11ea_9abb_0242ac1c0002row4_col4\" class=\"data row4 col4\" >1</td>\n",
              "                        <td id=\"T_d283a872_51b0_11ea_9abb_0242ac1c0002row4_col5\" class=\"data row4 col5\" >0.35</td>\n",
              "            </tr>\n",
              "            <tr>\n",
              "                        <th id=\"T_d283a872_51b0_11ea_9abb_0242ac1c0002level0_row5\" class=\"row_heading level0 row5\" >average chars per word</th>\n",
              "                        <td id=\"T_d283a872_51b0_11ea_9abb_0242ac1c0002row5_col0\" class=\"data row5 col0\" >-0.17</td>\n",
              "                        <td id=\"T_d283a872_51b0_11ea_9abb_0242ac1c0002row5_col1\" class=\"data row5 col1\" >-0.13</td>\n",
              "                        <td id=\"T_d283a872_51b0_11ea_9abb_0242ac1c0002row5_col2\" class=\"data row5 col2\" >-0.11</td>\n",
              "                        <td id=\"T_d283a872_51b0_11ea_9abb_0242ac1c0002row5_col3\" class=\"data row5 col3\" >0.2</td>\n",
              "                        <td id=\"T_d283a872_51b0_11ea_9abb_0242ac1c0002row5_col4\" class=\"data row5 col4\" >0.35</td>\n",
              "                        <td id=\"T_d283a872_51b0_11ea_9abb_0242ac1c0002row5_col5\" class=\"data row5 col5\" >1</td>\n",
              "            </tr>\n",
              "    </tbody></table>"
            ],
            "text/plain": [
              "<pandas.io.formats.style.Styler at 0x7f4bd3953860>"
            ]
          },
          "metadata": {
            "tags": []
          },
          "execution_count": 20
        }
      ]
    },
    {
      "cell_type": "code",
      "metadata": {
        "id": "z9TdBsM4UEVs",
        "colab_type": "code",
        "colab": {
          "base_uri": "https://localhost:8080/",
          "height": 851
        },
        "outputId": "f427a258-aff1-4298-bd2d-61086d50d6da"
      },
      "source": [
        "plt.scatter(data=new_df, x='average chars per word', y='n_images')\n",
        "plt.title('Relationship with N Images', weight=\"bold\")\n",
        "plt.xlabel('average chars per word')\n",
        "plt.ylabel('n_images')\n",
        "plt.show()\n",
        "\n",
        "\n",
        "plt.scatter(data=new_df, x='n_chars', y='n_images')\n",
        "plt.title('Relationship with N Images', weight=\"bold\")\n",
        "plt.xlabel('n characters')\n",
        "plt.ylabel('n_images')\n",
        "plt.show()\n",
        "\n",
        "\n",
        "plt.scatter(data=new_df, x='n_words', y='n_images')\n",
        "plt.title('Relationship with N Images', weight=\"bold\")\n",
        "plt.xlabel('n words')\n",
        "plt.ylabel('n_images')\n",
        "plt.show()"
      ],
      "execution_count": 21,
      "outputs": [
        {
          "output_type": "display_data",
          "data": {
            "image/png": "[encoded data removed]",
            "text/plain": [
              "<Figure size 432x288 with 1 Axes>"
            ]
          },
          "metadata": {
            "tags": []
          }
        },
        {
          "output_type": "display_data",
          "data": {
            "image/png": "[encoded data removed]",
            "text/plain": [
              "<Figure size 432x288 with 1 Axes>"
            ]
          },
          "metadata": {
            "tags": []
          }
        },
        {
          "output_type": "display_data",
          "data": {
            "image/png": "[encoded data removed]",
            "text/plain": [
              "<Figure size 432x288 with 1 Axes>"
            ]
          },
          "metadata": {
            "tags": []
          }
        }
      ]
    },
    {
      "cell_type": "code",
      "metadata": {
        "id": "GHLy6_u8SbwL",
        "colab_type": "code",
        "colab": {}
      },
      "source": [
        ""
      ],
      "execution_count": 0,
      "outputs": []
    },
    {
      "cell_type": "code",
      "metadata": {
        "id": "5oRpojLVSXex",
        "colab_type": "code",
        "colab": {}
      },
      "source": [
        ""
      ],
      "execution_count": 0,
      "outputs": []
    }
  ]
}